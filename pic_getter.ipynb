{
 "cells": [
  {
   "cell_type": "code",
   "execution_count": null,
   "metadata": {},
   "outputs": [],
   "source": [
    "# coding: utf-8\n",
    "\n",
    "import datetime\n",
    "import time\n",
    "from pymongo import MongoClient\n",
    "import pandas as pd\n",
    "import numpy as np\n",
    "import tweepy\n",
    "import bson.objectid\n",
    "import sys, traceback\n",
    "import setting\n",
    "import urllib.error\n",
    "import urllib.request\n",
    "import json"
   ]
  },
  {
   "cell_type": "code",
   "execution_count": null,
   "metadata": {},
   "outputs": [],
   "source": [
    "import twpy_app_kani\n",
    "api = twpy_app_kani.api\n",
    "\n",
    "client = MongoClient('localhost', 27017)\n",
    "db = client.twipic\n",
    "# subaru = db.subaru\n",
    "# momoko = db.momoko\n",
    "# hibiki = db.hibiki\n",
    "# loco = db.loco\n",
    "collection = db.godo"
   ]
  },
  {
   "cell_type": "code",
   "execution_count": null,
   "metadata": {},
   "outputs": [],
   "source": [
    "def get_the_value(keyword, **kwargs):\n",
    "    res = {\"exist_key\":False, \"value\":None}\n",
    "    for key in kwargs.keys():\n",
    "        # print(key, kwargs[key])\n",
    "        if key == keyword:\n",
    "            res[\"exist_key\"] = True\n",
    "            res[\"value\"] = kwargs[key]\n",
    "        if isinstance(kwargs[key], dict):\n",
    "            res_new = get_the_value(keyword, **kwargs[key])\n",
    "            if res_new[\"exist_key\"] == True: res = res_new\n",
    "        # else:\n",
    "    return res"
   ]
  },
  {
   "cell_type": "code",
   "execution_count": null,
   "metadata": {},
   "outputs": [],
   "source": [
    "def pic_getter(collection, keyword, min_retweets):\n",
    "    print(\"start\")\n",
    "\n",
    "    keywords =[keyword, 'filter:media -filter:retweets min_retweets:'+ str(min_retweets)]\n",
    "    search_text = ' AND '.join(keywords)\n",
    "    print(search_text)\n",
    "    for result_tweet in tweepy.Cursor(api.search, q=search_text, count=100, tweet_mode='extended', wait_on_rate_limit = True).items():\n",
    "        exist_tweet = False\n",
    "        for a in collection.find({'tweet_id':result_tweet.id_str}):\n",
    "            exist_tweet = True\n",
    "        if exist_tweet==False:\n",
    "            tweet = {}\n",
    "            tweet['tweet_id'] = result_tweet.id_str\n",
    "            tweet['user_id'] = result_tweet.user.id_str\n",
    "            tweet['screen_name'] = result_tweet.user.screen_name\n",
    "            tweet['text'] = result_tweet.full_text\n",
    "            tweet['created_at'] = result_tweet.created_at\n",
    "            tweet['followers_count'] = result_tweet.user.followers_count\n",
    "            tweet['friends_count'] = result_tweet.user.friends_count\n",
    "            tweet['retweet_count'] = result_tweet.retweet_count\n",
    "            tweet['state'] = 0\n",
    "            media = get_the_value(\"media\", **result_tweet._json)\n",
    "            if media[\"exist_key\"]:\n",
    "                tweet['media'] = media[\"value\"]\n",
    "                collection.insert_one(tweet)\n",
    "    print(\"end\") "
   ]
  },
  {
   "cell_type": "code",
   "execution_count": null,
   "metadata": {},
   "outputs": [],
   "source": [
    "idol_name = \"ロコ\"\n",
    "text = ['#{0}生誕祭2019 OR #{0}生誕祭 OR #{0}誕生祭 OR #{0}誕生祭2019', '{} AND 誕生' ,'{} AND \"おめでと\"']\n",
    "text = [x.format(idol_name) for x in text]\n",
    "text"
   ]
  },
  {
   "cell_type": "code",
   "execution_count": null,
   "metadata": {},
   "outputs": [],
   "source": [
    "# text = ['#周防桃子生誕祭2019 OR #周防桃子生誕祭 OR #周防桃子誕生祭 OR #周防桃子誕生祭2019', '桃子 AND 誕生' ,'桃子 AND \"おめでと\"']\n",
    "# text = ['#ロコ生誕祭2019 OR #ロコ生誕祭 OR #ロコ誕生祭 OR #ロコ誕生祭2019', '#伴田路子生誕祭2019 OR #伴田路子生誕祭 OR #伴田路子誕生祭 OR #伴田路子誕生祭2019', 'ロコ AND 誕生' ,'ロコ AND \"おめでと\"']\n",
    "text = ['#周防桃子合同']\n",
    "min_retweets = 10\n",
    "res = None\n",
    "for keywords in text:\n",
    "    pic_getter(collection, keywords, min_retweets)"
   ]
  },
  {
   "cell_type": "code",
   "execution_count": null,
   "metadata": {},
   "outputs": [],
   "source": [
    "# check\n",
    "print(res._json['created_at'])\n",
    "media = get_the_value(\"media\", **res._json)\n",
    "for m in media[\"value\"]:\n",
    "    print(m['media_url'])"
   ]
  },
  {
   "cell_type": "code",
   "execution_count": null,
   "metadata": {},
   "outputs": [],
   "source": [
    "collection.find().count()"
   ]
  },
  {
   "cell_type": "code",
   "execution_count": null,
   "metadata": {},
   "outputs": [],
   "source": [
    "import urllib.error\n",
    "import urllib.request\n",
    "\n",
    "def download_image(url, dst_path):\n",
    "    try:\n",
    "        data = urllib.request.urlopen(url).read()\n",
    "        with open(dst_path, mode=\"wb\") as f:\n",
    "            f.write(data)\n",
    "    except urllib.error.URLError as e:\n",
    "        print(e)\n",
    "        \n",
    "start = datetime.datetime(2020, 2, 29, 0, 0, 0)        \n",
    "        \n",
    "i=0\n",
    "data = []\n",
    "for d in collection.find({'created_at': {'$gte': start}}):\n",
    "    data.append(d)"
   ]
  },
  {
   "cell_type": "code",
   "execution_count": null,
   "metadata": {},
   "outputs": [],
   "source": [
    "for (di, d) in enumerate(data):\n",
    "    print(d['created_at'])\n",
    "    for (mi, media) in enumerate(d['media']):\n",
    "        url = '%s:orig' % media['media_url_https']\n",
    "        dst_path = './Pictures/scrpic/momokogodo/momokododo_{0:03d}_{1}.jpg'.format(di+1, mi+1)\n",
    "        print(dst_path)\n",
    "        # dst_dir = 'data/src'\n",
    "        # dst_path = os.path.join(dst_dir, os.path.basename(url))\n",
    "        download_image(url, dst_path)"
   ]
  },
  {
   "cell_type": "code",
   "execution_count": null,
   "metadata": {},
   "outputs": [],
   "source": [
    "class Twitter_API():\n",
    "    def __init__(self, key_number, dbName, collectionName):\n",
    "        consumer_key = setting.key['consumer_key'][key_number]\n",
    "        consumer_secret = setting.key['consumer_secret'][key_number]\n",
    "        auth = tweepy.AppAuthHandler(consumer_key, consumer_secret)\n",
    "        self.api = tweepy.API(auth)\n",
    "        \n",
    "        self.client = MongoClient('localhost', 27017)\n",
    "        self.db = self.client[dbName] #DB名を設定\n",
    "        self.collection = self.db.get_collection(collectionName)\n",
    "        \n",
    "    def pic_getter(self, keyword, min_retweets):\n",
    "        print(\"start\")\n",
    "\n",
    "        keywords =[keyword, 'filter:media -filter:retweets min_retweets:'+ str(min_retweets)]\n",
    "        search_text = ' AND '.join(keywords)\n",
    "        print(search_text)\n",
    "        for result_tweet in tweepy.Cursor(self.api.search, q=search_text, count=100, tweet_mode='extended', wait_on_rate_limit = True).items():\n",
    "            # print('media' in result_tweet.entities)\n",
    "            exist_tweet = False\n",
    "            for a in self.collection.find({'tweet_id':result_tweet.id_str}):\n",
    "                exist_tweet = True\n",
    "            if exist_tweet==False:\n",
    "                tweet = {}\n",
    "                tweet['tweet_id'] = result_tweet.id_str\n",
    "                tweet['user_id'] = result_tweet.user.id_str\n",
    "                tweet['screen_name'] = result_tweet.user.screen_name\n",
    "                tweet['text'] = result_tweet.full_text\n",
    "                tweet['created_at'] = result_tweet.created_at\n",
    "                tweet['followers_count'] = result_tweet.user.followers_count\n",
    "                tweet['friends_count'] = result_tweet.user.friends_count\n",
    "                tweet['retweet_count'] = result_tweet.retweet_count\n",
    "                tweet['state'] = 0\n",
    "                print('media' in result_tweet.extended_entities)\n",
    "                if 'media' in result_tweet.extended_entities:\n",
    "                    tweet['media'] = result_tweet.extended_entities['media']\n",
    "                    # self.collection.insert_one(tweet) ###########################\n",
    "\n",
    "        print(\"end\")\n",
    "    \n",
    "    def download_image(self, url, dst_path):\n",
    "        try:\n",
    "            data = urllib.request.urlopen(url).read()\n",
    "            with open(dst_path, mode=\"wb\") as f:\n",
    "                f.write(data)\n",
    "        except urllib.error.URLError as e:\n",
    "            print(e)\n",
    "        "
   ]
  },
  {
   "cell_type": "code",
   "execution_count": null,
   "metadata": {},
   "outputs": [],
   "source": [
    "api = Twitter_API(1, \"twipic\", \"subaru\")\n",
    "text = ['#永吉昴生誕祭2019 OR #永吉昴生誕祭 OR #永吉昴誕生祭 OR #永吉昴誕生祭2019', '昴 AND 誕生' ,'昴 AND \"おめでと\"']\n",
    "min_retweets = 10\n",
    "for keywords in text:\n",
    "    api.pic_getter(keywords, min_retweets)"
   ]
  },
  {
   "cell_type": "markdown",
   "metadata": {},
   "source": [
    "# 以下メモ"
   ]
  },
  {
   "cell_type": "code",
   "execution_count": null,
   "metadata": {},
   "outputs": [],
   "source": []
  }
 ],
 "metadata": {
  "kernelspec": {
   "display_name": "Python 3",
   "language": "python",
   "name": "python3"
  },
  "language_info": {
   "codemirror_mode": {
    "name": "ipython",
    "version": 3
   },
   "file_extension": ".py",
   "mimetype": "text/x-python",
   "name": "python",
   "nbconvert_exporter": "python",
   "pygments_lexer": "ipython3",
   "version": "3.7.6"
  }
 },
 "nbformat": 4,
 "nbformat_minor": 2
}