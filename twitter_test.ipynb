{
 "cells": [
  {
   "cell_type": "code",
   "execution_count": null,
   "metadata": {
    "scrolled": true
   },
   "outputs": [],
   "source": [
    "import config\n",
    "import json # 標準のjsonモジュールとconfig.pyの読み込み\n",
    "from requests_oauthlib import OAuth1Session #OAuthのライブラリの読み込み"
   ]
  },
  {
   "cell_type": "code",
   "execution_count": null,
   "metadata": {},
   "outputs": [],
   "source": [
    "CK = config.CONSUMER_KEY\n",
    "CS = config.CONSUMER_SECRET\n",
    "AT = config.ACCESS_TOKEN\n",
    "ATS = config.ACCESS_TOKEN_SECRET\n",
    "twitter = OAuth1Session(CK, CS, AT, ATS) #認証処理\n",
    "\n",
    "screen_name = 'KasperProducer'\n",
    "tweet_id = '1280736571906355200'"
   ]
  },
  {
   "cell_type": "code",
   "execution_count": null,
   "metadata": {},
   "outputs": [],
   "source": [
    "#timelineの取得\n",
    "def get_timeline(screen_name):\n",
    "    tl = None\n",
    "    url = \"https://api.twitter.com/1.1/statuses/user_timeline.json\" #タイムライン取得エンドポイント\n",
    "    params ={\n",
    "        'screen_name' : screen_name,\n",
    "        'count' : 200\n",
    "        } #取得数\n",
    "    res = twitter.get(url, params = params)\n",
    "    if res.status_code == 200: #正常通信出来た場合\n",
    "        tl = json.loads(res.text) #レスポンスからタイムラインリストを取得\n",
    "    else: #正常通信出来なかった場合\n",
    "        raise Exception(\"Failed: %d\" % res.status_code)\n",
    "    return tl"
   ]
  },
  {
   "cell_type": "code",
   "execution_count": null,
   "metadata": {},
   "outputs": [],
   "source": [
    "tl = get_timeline(screen_name)\n",
    "for tweet in tl:\n",
    "    print(tweet['user']['name']+'::'+tweet['text'])\n",
    "    print(tweet['created_at'])\n",
    "    print('*******************************************')"
   ]
  },
  {
   "cell_type": "code",
   "execution_count": null,
   "metadata": {},
   "outputs": [],
   "source": [
    "tl[3]['entities']"
   ]
  },
  {
   "cell_type": "code",
   "execution_count": null,
   "metadata": {},
   "outputs": [],
   "source": [
    "for tweet in tl:\n",
    "    if 'media' in tweet['entities']:\n",
    "        for media in tweet['entities']['media']:\n",
    "            print(media['media_url'])"
   ]
  },
  {
   "cell_type": "code",
   "execution_count": null,
   "metadata": {},
   "outputs": [],
   "source": [
    "tl[0]['id_str']"
   ]
  },
  {
   "cell_type": "code",
   "execution_count": null,
   "metadata": {},
   "outputs": [],
   "source": [
    "tl[0]['in_reply_to_status_id_str']"
   ]
  },
  {
   "cell_type": "code",
   "execution_count": null,
   "metadata": {},
   "outputs": [],
   "source": [
    " 'in_reply_to_status_id': 1280850083668299776,\n",
    " 'in_reply_to_status_id_str': '1280850083668299776',\n",
    " 'in_reply_to_user_id': 3283277090,\n",
    " 'in_reply_to_user_id_str': '3283277090',\n",
    " 'in_reply_to_screen_name': 'Suzuki_Konomin',"
   ]
  },
  {
   "cell_type": "code",
   "execution_count": null,
   "metadata": {},
   "outputs": [],
   "source": [
    "selfreplies = {}\n",
    "selfreplies['a'] = 'aa'\n",
    "selfreplies"
   ]
  },
  {
   "cell_type": "code",
   "execution_count": null,
   "metadata": {},
   "outputs": [],
   "source": [
    "selfreplies = {'a':1, 'b':2}\n",
    "seen = {key : 0 for key in selfreplies}\n",
    "seen"
   ]
  },
  {
   "cell_type": "code",
   "execution_count": null,
   "metadata": {},
   "outputs": [],
   "source": []
  }
 ],
 "metadata": {
  "kernelspec": {
   "display_name": "Python 3",
   "language": "python",
   "name": "python3"
  },
  "language_info": {
   "codemirror_mode": {
    "name": "ipython",
    "version": 3
   },
   "file_extension": ".py",
   "mimetype": "text/x-python",
   "name": "python",
   "nbconvert_exporter": "python",
   "pygments_lexer": "ipython3",
   "version": "3.7.6"
  }
 },
 "nbformat": 4,
 "nbformat_minor": 4
}